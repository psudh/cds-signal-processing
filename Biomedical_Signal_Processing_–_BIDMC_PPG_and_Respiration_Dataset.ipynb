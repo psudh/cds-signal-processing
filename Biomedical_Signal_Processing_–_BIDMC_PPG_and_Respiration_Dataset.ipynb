{
 "cells": [
  {
   "cell_type": "markdown",
   "metadata": {
    "id": "nMhD37JLZPq0"
   },
   "source": [
    "# Digging BIDMC PPG and Respiration Dataset\n",
    "\n",
    "The original data was acquired from critically-ill patients during hospital care at the Beth Israel Deaconess Medical Centre (Boston, MA, USA). Two annotators manually annotated individual breaths in each recording using the impedance respiratory signal. The 53 recordings within the dataset, each of 8-minute duration, each contain:\n",
    "\n",
    "Physiological signals, such as the PPG, impedance respiratory signal, and electrocardiogram (ECG). These are sampled at 125 Hz.\n",
    "Physiological parameters, such as the heart rate (HR), respiratory rate (RR), and blood oxygen saturation level (SpO2). These are sampled at 1 Hz.\n",
    "Fixed parameters, such as age and gender\n",
    "Manual annotations of breaths.\n",
    "This dataset was first reported in the referenced publication, in which the data was used to evaluate the performance of different algorithms for estimating respiratory rate from the pulse oximetry, or photoplethysmogram (PPG) signal."
   ]
  },
  {
   "cell_type": "code",
   "execution_count": null,
   "metadata": {
    "id": "TCg-fnb4ZP6C"
   },
   "outputs": [],
   "source": [
    "import pandas as pd\n",
    "import matplotlib.pyplot as plt\n",
    "\n",
    "# Time [s], RESP, PLETH, V, AVR, II\n",
    "bidmc1 = pd.read_csv(\"https://physionet.org/physiobank/database/bidmc/bidmc_csv/bidmc_01_Signals.csv\", skipinitialspace=True)"
   ]
  },
  {
   "cell_type": "code",
   "execution_count": null,
   "metadata": {
    "colab": {
     "base_uri": "https://localhost:8080/",
     "height": 204
    },
    "id": "VzAb0R-ZauTC",
    "outputId": "b5e21440-ad59-4035-cff1-1ec6494b3f42"
   },
   "outputs": [],
   "source": [
    "bidmc1.head()"
   ]
  },
  {
   "cell_type": "code",
   "execution_count": null,
   "metadata": {
    "colab": {
     "base_uri": "https://localhost:8080/",
     "height": 204
    },
    "id": "BFEJTOOjZ82b",
    "outputId": "c1336350-18d1-4ab3-e0ad-512531fcf651"
   },
   "outputs": [],
   "source": [
    "bidmc1.tail()"
   ]
  },
  {
   "cell_type": "code",
   "execution_count": null,
   "metadata": {
    "colab": {
     "base_uri": "https://localhost:8080/",
     "height": 295
    },
    "id": "BhXIR6K2Z7Mc",
    "outputId": "b3e6309e-57cb-40b8-91f3-dc4e2d312030"
   },
   "outputs": [],
   "source": [
    "time  = bidmc1['Time [s]']\n",
    "resp  = bidmc1['RESP']\n",
    "pleth = bidmc1['PLETH']\n",
    "v = bidmc1['V']\n",
    "avr = bidmc1['AVR']\n",
    "ii = bidmc1['II']\n",
    "\n",
    "plt.figure(figsize=(24,4))\n",
    "plt.plot(time, ii, label=\"ECG\")\n",
    "plt.plot(time, pleth, label=\"PPG\")\n",
    "plt.plot()\n",
    "\n",
    "plt.xlim(0, 30)\n",
    "plt.ylim(0,1.7)\n",
    "plt.xlabel(\"time (s)\")\n",
    "plt.ylabel(\"y axis\")\n",
    "plt.title(\"RR vs. PPG\")\n",
    "plt.legend()\n",
    "plt.show()"
   ]
  },
  {
   "cell_type": "code",
   "execution_count": null,
   "metadata": {
    "colab": {
     "base_uri": "https://localhost:8080/",
     "height": 295
    },
    "id": "hW8yfwVHbPAz",
    "outputId": "64a8dcdb-f52a-4f29-a36d-a1668d581d17"
   },
   "outputs": [],
   "source": [
    "plt.figure(figsize=(24,4))\n",
    "plt.plot(time, resp, label=\"RESP\")\n",
    "plt.plot(time, pleth, label=\"PPG\")\n",
    "plt.plot()\n",
    "\n",
    "plt.xlim(0, 60)\n",
    "plt.xlabel(\"time (s)\")\n",
    "plt.ylabel(\"y axis\")\n",
    "plt.title(\"RR vs. PPG\")\n",
    "plt.legend()\n",
    "plt.show()"
   ]
  }
 ],
 "metadata": {
  "colab": {
   "collapsed_sections": [],
   "name": "Biomedical Signal Processing – BIDMC PPG and Respiration Dataset.ipynb",
   "provenance": []
  },
  "kernelspec": {
   "display_name": "Python 3",
   "language": "python",
   "name": "python3"
  },
  "language_info": {
   "codemirror_mode": {
    "name": "ipython",
    "version": 3
   },
   "file_extension": ".py",
   "mimetype": "text/x-python",
   "name": "python",
   "nbconvert_exporter": "python",
   "pygments_lexer": "ipython3",
   "version": "3.7.8"
  }
 },
 "nbformat": 4,
 "nbformat_minor": 1
}
