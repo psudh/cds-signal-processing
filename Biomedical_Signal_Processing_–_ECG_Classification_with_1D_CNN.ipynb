{
 "cells": [
  {
   "cell_type": "code",
   "execution_count": null,
   "metadata": {
    "id": "M6jtKXmXsDSd"
   },
   "outputs": [],
   "source": [
    "import numpy as np\n",
    "import pandas as pd\n",
    "import os"
   ]
  },
  {
   "cell_type": "markdown",
   "metadata": {
    "id": "XPrfSKnFKTD8"
   },
   "source": [
    "# Download MITBIH dataset"
   ]
  },
  {
   "cell_type": "code",
   "execution_count": null,
   "metadata": {
    "colab": {
     "base_uri": "https://localhost:8080/",
     "height": 289
    },
    "id": "ccacDc_UsSxl",
    "outputId": "092301c6-dfd9-4a87-8460-37bf8ced231c"
   },
   "outputs": [],
   "source": [
    "!wget https://github.com/psudh/cds-signal-processing/raw/main/data/mitbih_test.csv"
   ]
  },
  {
   "cell_type": "code",
   "execution_count": null,
   "metadata": {
    "id": "cQWLv2hguvq6"
   },
   "outputs": [],
   "source": [
    "import numpy as np\n",
    "import pandas as pd\n",
    "import seaborn as sns\n",
    "import matplotlib.pyplot as plt\n",
    "from sklearn.metrics import classification_report\n",
    "from sklearn.model_selection import train_test_split\n",
    "from sklearn.metrics import f1_score\n",
    "from sklearn.metrics import confusion_matrix\n",
    "from keras.utils.np_utils import to_categorical\n",
    "from sklearn.utils import class_weight\n",
    "import warnings\n",
    "warnings.filterwarnings('ignore')"
   ]
  },
  {
   "cell_type": "code",
   "execution_count": null,
   "metadata": {
    "id": "P3dtJBY_Qhfn"
   },
   "outputs": [],
   "source": [
    "# import dataset\n",
    "df = pd.read_csv(\"mitbih_test.csv\", header = None)\n",
    "train_df, test_df = train_test_split(df, test_size=0.2)"
   ]
  },
  {
   "cell_type": "code",
   "execution_count": null,
   "metadata": {
    "colab": {
     "base_uri": "https://localhost:8080/",
     "height": 119
    },
    "id": "mzei0mD1Qhng",
    "outputId": "832d2f4a-368c-40b6-e6ec-115914c86432"
   },
   "outputs": [],
   "source": [
    "# Value of each class\n",
    "train_df[187].value_counts()"
   ]
  },
  {
   "cell_type": "code",
   "execution_count": null,
   "metadata": {
    "colab": {
     "base_uri": "https://localhost:8080/",
     "height": 575
    },
    "id": "j5n0vEXkQht9",
    "outputId": "9ce42a24-15bf-490f-d976-cb5374e69f1f"
   },
   "outputs": [],
   "source": [
    "# Representation of classes % wise\n",
    "per_class = train_df[187].value_counts()\n",
    "plt.figure(figsize=(20,10))\n",
    "my_circle=plt.Circle( (0,0), 0.7, color='white')\n",
    "plt.pie(per_class, \n",
    "        labels=['normal beat',\n",
    "                'unknown Beats',\n",
    "                'Ventricular ectopic beats',\n",
    "                'Supraventricular ectopic beats',\n",
    "                'Fusion Beats'], \n",
    "        colors=['tab:blue',\n",
    "                'tab:orange',\n",
    "                'tab:purple',\n",
    "                'tab:olive',\n",
    "                'tab:green'],\n",
    "        autopct='%1.1f%%')\n",
    "p=plt.gcf()\n",
    "p.gca().add_artist(my_circle)\n",
    "plt.show()"
   ]
  },
  {
   "cell_type": "markdown",
   "metadata": {
    "id": "K465CPtzR97R"
   },
   "source": [
    "# Resampling for balacing the dataset"
   ]
  },
  {
   "cell_type": "code",
   "execution_count": null,
   "metadata": {
    "id": "M6J7awPhN687"
   },
   "outputs": [],
   "source": [
    "from sklearn.utils import resample\n",
    "\n",
    "df_1=train_df[train_df[187]==1]\n",
    "df_2=train_df[train_df[187]==2]\n",
    "df_3=train_df[train_df[187]==3]\n",
    "df_4=train_df[train_df[187]==4]\n",
    "df_0=(train_df[train_df[187]==0]).sample(n=2000,random_state=42)\n",
    "\n",
    "df_1_upsample=resample(df_1,replace=True,n_samples=2000,random_state=123)\n",
    "df_2_upsample=resample(df_2,replace=True,n_samples=2000,random_state=124)\n",
    "df_3_upsample=resample(df_3,replace=True,n_samples=2000,random_state=125)\n",
    "df_4_upsample=resample(df_4,replace=True,n_samples=2000,random_state=126)\n",
    "\n",
    "train_df=pd.concat([df_0,df_1_upsample,df_2_upsample,df_3_upsample,df_4_upsample])"
   ]
  },
  {
   "cell_type": "code",
   "execution_count": null,
   "metadata": {
    "colab": {
     "base_uri": "https://localhost:8080/",
     "height": 575
    },
    "id": "wPj7kJNWR_9B",
    "outputId": "f05583d7-8571-47d4-ec21-cde22f66ae19"
   },
   "outputs": [],
   "source": [
    "# representation of classes % wise\n",
    "per_class = train_df[187].value_counts()\n",
    "plt.figure(figsize=(20,10))\n",
    "my_circle=plt.Circle( (0,0), 0.7, color='white')\n",
    "plt.pie(per_class, \n",
    "        labels=['normal beat',\n",
    "                'unknown Beats',\n",
    "                'Ventricular ectopic beats',\n",
    "                'Supraventricular ectopic beats',\n",
    "                'Fusion Beats'], \n",
    "        colors=['tab:blue',\n",
    "                'tab:orange',\n",
    "                'tab:purple',\n",
    "                'tab:olive',\n",
    "                'tab:green'],\n",
    "        autopct='%1.1f%%')\n",
    "p=plt.gcf()\n",
    "p.gca().add_artist(my_circle)\n",
    "plt.show()"
   ]
  },
  {
   "cell_type": "markdown",
   "metadata": {
    "id": "StZLYAlbSLoP"
   },
   "source": [
    "# Classes"
   ]
  },
  {
   "cell_type": "code",
   "execution_count": null,
   "metadata": {
    "id": "kAPQFmU5SG8t"
   },
   "outputs": [],
   "source": [
    "# Randomly sampling from each class\n",
    "classes=train_df.groupby(187,group_keys=False).apply(lambda train_df : train_df.sample(1))"
   ]
  },
  {
   "cell_type": "code",
   "execution_count": null,
   "metadata": {
    "colab": {
     "base_uri": "https://localhost:8080/",
     "height": 253
    },
    "id": "ZlVTywhtSMSz",
    "outputId": "e6e7439b-4507-4d60-b498-35beaa8576c9"
   },
   "outputs": [],
   "source": [
    "# Peek on classes\n",
    "classes"
   ]
  },
  {
   "cell_type": "code",
   "execution_count": null,
   "metadata": {
    "colab": {
     "base_uri": "https://localhost:8080/",
     "height": 499
    },
    "id": "dDK0Hw3pSMWE",
    "outputId": "c2900fa0-c6f9-48ae-c7c1-64a3fe3e9b42"
   },
   "outputs": [],
   "source": [
    "# plotting classes ECG\n",
    "plt.figure(figsize=(16,8))\n",
    "# normal\n",
    "plt.subplot(2, 3, 1)  \n",
    "plt.plot(classes.iloc[0,:186])\n",
    "plt.title('normal beat')\n",
    "# unknown\n",
    "plt.subplot(2, 3, 2)  \n",
    "plt.plot(classes.iloc[1,:186])\n",
    "plt.title('unknown Beat')\n",
    "# veb\n",
    "plt.subplot(2, 3, 3)  \n",
    "plt.plot(classes.iloc[2,:186])\n",
    "plt.title('Ventricular ectopic beat')\n",
    "# seb\n",
    "plt.subplot(2, 3, 4)  \n",
    "plt.plot(classes.iloc[3,:186])\n",
    "plt.title('Supraventricular ectopic beat')\n",
    "# fusion\n",
    "plt.subplot(2, 3, 5)  \n",
    "plt.plot(classes.iloc[4,:186])\n",
    "plt.title('Fusion Beat')\n",
    "# show plot\n",
    "plt.show()"
   ]
  },
  {
   "cell_type": "markdown",
   "metadata": {
    "id": "2rTMbXF3SUQf"
   },
   "source": [
    "# Signal heatmap"
   ]
  },
  {
   "cell_type": "code",
   "execution_count": null,
   "metadata": {
    "id": "-5TuQc5uSMZl"
   },
   "outputs": [],
   "source": [
    "def plot_hist(class_number,size,min_):\n",
    "    # get the class data\n",
    "    img=train_df.loc[train_df[187]==class_number].values\n",
    "    # crop it\n",
    "    img=img[:,min_:size]\n",
    "    # creates a continous steam of data\n",
    "    img_flatten=img.flatten()\n",
    "    \n",
    "    final1=np.arange(min_,size)\n",
    "    for i in range (img.shape[0]-1):\n",
    "        tempo1=np.arange(min_,size)\n",
    "        final1=np.concatenate((final1, tempo1), axis=None)\n",
    "    print(len(final1))\n",
    "    print(len(img_flatten))\n",
    "    plt.hist2d(final1,img_flatten, bins=(80,80),cmap=plt.cm.jet)\n",
    "    plt.show()"
   ]
  },
  {
   "cell_type": "code",
   "execution_count": null,
   "metadata": {
    "colab": {
     "base_uri": "https://localhost:8080/",
     "height": 315
    },
    "id": "nT_ASYlNSMc5",
    "outputId": "caf6c551-378c-4b38-8a5a-a4962da76ae0"
   },
   "outputs": [],
   "source": [
    "# Normal Beat\n",
    "plt.figure(figsize=(12,4))\n",
    "plt.subplot(1, 2, 1)  \n",
    "plt.plot(classes.iloc[0,:186])\n",
    "plt.title('Normal beat')\n",
    "plt.subplot(1, 2, 2)  \n",
    "plot_hist(0,70,5)"
   ]
  },
  {
   "cell_type": "code",
   "execution_count": null,
   "metadata": {
    "colab": {
     "base_uri": "https://localhost:8080/",
     "height": 315
    },
    "id": "0gWNY-UZSMgP",
    "outputId": "de35186f-5e6b-423c-bfae-e7a297621a4c"
   },
   "outputs": [],
   "source": [
    "# unknown\n",
    "plt.figure(figsize=(12,4))\n",
    "plt.subplot(1, 2, 1)\n",
    "plt.plot(classes.iloc[1,:186])\n",
    "plt.title('unknown Beat')\n",
    "plt.subplot(1, 2, 2)  \n",
    "plot_hist(1,50,5)"
   ]
  },
  {
   "cell_type": "code",
   "execution_count": null,
   "metadata": {
    "colab": {
     "base_uri": "https://localhost:8080/",
     "height": 315
    },
    "id": "cc4IX9VzSMjm",
    "outputId": "ef268625-45de-4819-d69b-77065c3a85cc"
   },
   "outputs": [],
   "source": [
    "# veb\n",
    "plt.figure(figsize=(12,4))\n",
    "plt.subplot(1, 2, 1)  \n",
    "plt.plot(classes.iloc[2,:186])\n",
    "plt.title('Ventricular ectopic beat')\n",
    "plt.subplot(1, 2, 2) \n",
    "plot_hist(2,60,30)"
   ]
  },
  {
   "cell_type": "code",
   "execution_count": null,
   "metadata": {
    "colab": {
     "base_uri": "https://localhost:8080/",
     "height": 315
    },
    "id": "mOLZnfUxSMnm",
    "outputId": "7e677dde-0d89-431b-9eef-31fde102678b"
   },
   "outputs": [],
   "source": [
    "# seb\n",
    "plt.figure(figsize=(12,4))\n",
    "plt.subplot(1, 2, 1) \n",
    "plt.plot(classes.iloc[3,:186])\n",
    "plt.title('Supraventricular ectopic beat')\n",
    "plt.subplot(1, 2, 2) \n",
    "plot_hist(3,60,25)"
   ]
  },
  {
   "cell_type": "code",
   "execution_count": null,
   "metadata": {
    "colab": {
     "base_uri": "https://localhost:8080/",
     "height": 315
    },
    "id": "W_gguS2NSelj",
    "outputId": "360f8a4f-f89f-4d38-e5f2-28964bf98a41"
   },
   "outputs": [],
   "source": [
    "# fusion\n",
    "plt.figure(figsize=(12,4))\n",
    "plt.subplot(1, 2, 1)   \n",
    "plt.plot(classes.iloc[4,:186])\n",
    "plt.title('Fusion Beat')\n",
    "plt.subplot(1, 2, 2) \n",
    "plot_hist(4,50,18)"
   ]
  },
  {
   "cell_type": "markdown",
   "metadata": {
    "id": "_MpUNxAoTtDZ"
   },
   "source": [
    "# Pretreat"
   ]
  },
  {
   "cell_type": "code",
   "execution_count": null,
   "metadata": {
    "id": "Hq16N5JOShJL"
   },
   "outputs": [],
   "source": [
    "def add_gaussian_noise(signal):\n",
    "    noise=np.random.normal(0,0.05,186)\n",
    "    return (signal+noise)"
   ]
  },
  {
   "cell_type": "code",
   "execution_count": null,
   "metadata": {
    "colab": {
     "base_uri": "https://localhost:8080/",
     "height": 265
    },
    "id": "EbdcR4ngTvuO",
    "outputId": "8672e4c8-becb-48ea-c272-d6da22ff3d85"
   },
   "outputs": [],
   "source": [
    "tempo=classes.iloc[0,:186]\n",
    "bruiter=add_gaussian_noise(tempo)\n",
    "\n",
    "plt.subplot(2,1,1)\n",
    "plt.plot(classes.iloc[0,:186])\n",
    "\n",
    "plt.subplot(2,1,2)\n",
    "plt.plot(bruiter)\n",
    "\n",
    "plt.show()"
   ]
  },
  {
   "cell_type": "code",
   "execution_count": null,
   "metadata": {
    "id": "Ta9gzeKyTyCe"
   },
   "outputs": [],
   "source": [
    "target_train = train_df[187]\n",
    "target_test  = test_df[187]\n",
    "y_train = to_categorical(target_train)\n",
    "y_test  = to_categorical(target_test)"
   ]
  },
  {
   "cell_type": "code",
   "execution_count": null,
   "metadata": {
    "id": "kAsbIz-KTyHP"
   },
   "outputs": [],
   "source": [
    "X_train = train_df.iloc[:,:186].values\n",
    "X_test  = test_df.iloc[:,:186].values\n",
    "#for i in range(len(X_train)):\n",
    "#    X_train[i,:186]= add_gaussian_noise(X_train[i,:186])\n",
    "X_train = X_train.reshape(len(X_train), X_train.shape[1],1)\n",
    "X_test  = X_test.reshape(len(X_test), X_test.shape[1],1)"
   ]
  },
  {
   "cell_type": "code",
   "execution_count": null,
   "metadata": {
    "id": "JWE67Dy6TyLl"
   },
   "outputs": [],
   "source": [
    "# Network\n",
    "def network(X_train,y_train,X_test,y_test):\n",
    "    im_shape=(X_train.shape[1],1)\n",
    "    inputs_cnn=Input(shape=(im_shape), name='inputs_cnn')\n",
    "    conv1_1=Convolution1D(64, (6), activation='relu', input_shape=im_shape)(inputs_cnn)\n",
    "    conv1_1=BatchNormalization()(conv1_1)\n",
    "    pool1=MaxPool1D(pool_size=(3), strides=(2), padding=\"same\")(conv1_1)\n",
    "    conv2_1=Convolution1D(64, (3), activation='relu', input_shape=im_shape)(pool1)\n",
    "    conv2_1=BatchNormalization()(conv2_1)\n",
    "    pool2=MaxPool1D(pool_size=(2), strides=(2), padding=\"same\")(conv2_1)\n",
    "    conv3_1=Convolution1D(64, (3), activation='relu', input_shape=im_shape)(pool2)\n",
    "    conv3_1=BatchNormalization()(conv3_1)\n",
    "    pool3=MaxPool1D(pool_size=(2), strides=(2), padding=\"same\")(conv3_1)\n",
    "    flatten=Flatten()(pool3)\n",
    "    dense_end1 = Dense(64, activation='relu')(flatten)\n",
    "    dense_end2 = Dense(32, activation='relu')(dense_end1)\n",
    "    main_output = Dense(5, activation='softmax', name='main_output')(dense_end2)\n",
    "    \n",
    "    \n",
    "    model = Model(inputs= inputs_cnn, outputs=main_output)\n",
    "    model.compile(optimizer='adam', loss='categorical_crossentropy',metrics = ['accuracy'])\n",
    "    \n",
    "    \n",
    "    callbacks = [EarlyStopping(monitor='val_loss', patience=8),\n",
    "             ModelCheckpoint(filepath='best_model.h5', monitor='val_loss', save_best_only=True)]\n",
    "\n",
    "    history=model.fit(X_train, y_train,epochs=5,callbacks=callbacks, batch_size=32,validation_data=(X_test,y_test))\n",
    "    model.load_weights('best_model.h5')\n",
    "    return(model,history)"
   ]
  },
  {
   "cell_type": "code",
   "execution_count": null,
   "metadata": {
    "id": "RQIoVBxFTyQS"
   },
   "outputs": [],
   "source": [
    "def evaluate_model(history,X_test,y_test,model):\n",
    "    scores = model.evaluate((X_test),y_test, verbose=0)\n",
    "    print(\"Accuracy: %.2f%%\" % (scores[1]*100))\n",
    "    \n",
    "    print(history)\n",
    "    fig1, ax_acc = plt.subplots()\n",
    "    plt.plot(history.history['accuracy'])\n",
    "    plt.plot(history.history['val_accuracy'])\n",
    "    plt.xlabel('Epoch')\n",
    "    plt.ylabel('Accuracy')\n",
    "    plt.title('Model - Accuracy')\n",
    "    plt.legend(['Training', 'Validation'], loc='lower right')\n",
    "    plt.show()\n",
    "    \n",
    "    fig2, ax_loss = plt.subplots()\n",
    "    plt.xlabel('Epoch')\n",
    "    plt.ylabel('Loss')\n",
    "    plt.title('Model- Loss')\n",
    "    plt.legend(['Training', 'Validation'], loc='upper right')\n",
    "    plt.plot(history.history['loss'])\n",
    "    plt.plot(history.history['val_loss'])\n",
    "    plt.show()\n",
    "    target_names=['0','1','2','3','4']\n",
    "    \n",
    "    y_true=[]\n",
    "    for element in y_test:\n",
    "        y_true.append(np.argmax(element))\n",
    "    prediction_proba=model.predict(X_test)\n",
    "    prediction=np.argmax(prediction_proba,axis=1)\n",
    "    cnf_matrix = confusion_matrix(y_true, prediction)"
   ]
  },
  {
   "cell_type": "code",
   "execution_count": null,
   "metadata": {
    "colab": {
     "base_uri": "https://localhost:8080/",
     "height": 187
    },
    "id": "t14bl8LBTyVK",
    "outputId": "c158200d-be94-4832-902d-914697e37831"
   },
   "outputs": [],
   "source": [
    "from keras.layers import Dense, Convolution1D, MaxPool1D, Flatten, Dropout\n",
    "from keras.layers import Input\n",
    "from keras.models import Model\n",
    "from keras.layers.normalization import BatchNormalization\n",
    "import keras\n",
    "from keras.callbacks import EarlyStopping, ModelCheckpoint\n",
    "\n",
    "model,history=network(X_train,y_train,X_test,y_test)"
   ]
  },
  {
   "cell_type": "code",
   "execution_count": null,
   "metadata": {
    "colab": {
     "base_uri": "https://localhost:8080/",
     "height": 607
    },
    "id": "tKfIaE9ET6Gv",
    "outputId": "753d9270-8633-46ad-b9ce-0b71fce77bbc"
   },
   "outputs": [],
   "source": [
    "evaluate_model(history,X_test,y_test,model)\n",
    "y_pred=model.predict(X_test)"
   ]
  },
  {
   "cell_type": "code",
   "execution_count": null,
   "metadata": {
    "colab": {
     "base_uri": "https://localhost:8080/",
     "height": 746
    },
    "id": "fd86xSc-T9O9",
    "outputId": "2c351961-daf0-4c02-ac0b-c23a5472e347"
   },
   "outputs": [],
   "source": [
    "import itertools\n",
    "def plot_confusion_matrix(cm, classes,\n",
    "                          normalize=False,\n",
    "                          title='Confusion matrix',\n",
    "                          cmap=plt.cm.Blues):\n",
    "    \"\"\"\n",
    "    This function prints and plots the confusion matrix.\n",
    "    Normalization can be applied by setting `normalize=True`.\n",
    "    \"\"\"\n",
    "    if normalize:\n",
    "        cm = cm.astype('float') / cm.sum(axis=1)[:, np.newaxis]\n",
    "        print(\"Normalized confusion matrix\")\n",
    "    else:\n",
    "        print('Confusion matrix, without normalization')\n",
    "\n",
    "    plt.imshow(cm, interpolation='nearest', cmap=cmap)\n",
    "    plt.title(title)\n",
    "    plt.colorbar()\n",
    "    tick_marks = np.arange(len(classes))\n",
    "    plt.xticks(tick_marks, classes, rotation=45)\n",
    "    plt.yticks(tick_marks, classes)\n",
    "\n",
    "    fmt = '.2f' if normalize else 'd'\n",
    "    thresh = cm.max() / 2.\n",
    "    for i, j in itertools.product(range(cm.shape[0]), range(cm.shape[1])):\n",
    "        plt.text(j, i, format(cm[i, j], fmt),\n",
    "                 horizontalalignment=\"center\",\n",
    "                 color=\"white\" if cm[i, j] > thresh else \"black\")\n",
    "\n",
    "    plt.tight_layout()\n",
    "    plt.ylabel('True label')\n",
    "    plt.xlabel('Predicted label')\n",
    "\n",
    "# Compute confusion matrix\n",
    "cnf_matrix = confusion_matrix(y_test.argmax(axis=1), y_pred.argmax(axis=1))\n",
    "np.set_printoptions(precision=2)\n",
    "\n",
    "# Plot non-normalized confusion matrix\n",
    "plt.figure(figsize=(10, 10))\n",
    "plot_confusion_matrix(cnf_matrix, classes=['N', 'S', 'V', 'F', 'Q'],normalize=True,\n",
    "                      title='Confusion matrix, with normalization')\n",
    "plt.show()"
   ]
  }
 ],
 "metadata": {
  "accelerator": "GPU",
  "colab": {
   "name": "Biomedical Signal Processing – ECG Classification with 1D CNN.ipynb",
   "provenance": []
  },
  "kernelspec": {
   "display_name": "Python 3",
   "language": "python",
   "name": "python3"
  },
  "language_info": {
   "codemirror_mode": {
    "name": "ipython",
    "version": 3
   },
   "file_extension": ".py",
   "mimetype": "text/x-python",
   "name": "python",
   "nbconvert_exporter": "python",
   "pygments_lexer": "ipython3",
   "version": "3.7.8"
  }
 },
 "nbformat": 4,
 "nbformat_minor": 1
}
